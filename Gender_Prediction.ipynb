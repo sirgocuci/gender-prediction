{
 "cells": [
  {
   "cell_type": "code",
   "execution_count": 1,
   "id": "02c12a3e",
   "metadata": {},
   "outputs": [],
   "source": [
    "import pandas as pd\n",
    "\n",
    "ground_truth = pd.read_csv(\"C:\\\\Users\\\\Serj\\\\Documents\\\\Gender_Prediction\\\\ground_truth_ml.csv\")\n",
    "variables = pd.read_csv(\"C:\\\\Users\\\\Serj\\\\Documents\\\\Gender_Prediction\\\\variables_ml.csv\")"
   ]
  },
  {
   "cell_type": "code",
   "execution_count": 2,
   "id": "a84684ff",
   "metadata": {},
   "outputs": [],
   "source": [
    "combined_data = pd.merge(ground_truth, variables, on='id', how='inner')\n"
   ]
  },
  {
   "cell_type": "code",
   "execution_count": 3,
   "id": "da8e2f52",
   "metadata": {
    "scrolled": true
   },
   "outputs": [
    {
     "name": "stdout",
     "output_type": "stream",
     "text": [
      "id         0\n",
      "gender     0\n",
      "ds         0\n",
      "h          0\n",
      "content    0\n",
      "dtype: int64\n"
     ]
    }
   ],
   "source": [
    "print(combined_data.isnull().sum())\n",
    "\n",
    "combined_data = combined_data.dropna()\n"
   ]
  },
  {
   "cell_type": "code",
   "execution_count": 4,
   "id": "b229b192",
   "metadata": {},
   "outputs": [
    {
     "name": "stdout",
     "output_type": "stream",
     "text": [
      "gender\n",
      "f    385856\n",
      "m     99442\n",
      "Name: count, dtype: int64\n"
     ]
    }
   ],
   "source": [
    "combined_counts = combined_data['gender'].value_counts()\n",
    "\n",
    "print(combined_counts)"
   ]
  },
  {
   "cell_type": "code",
   "execution_count": 5,
   "id": "aed0c193",
   "metadata": {},
   "outputs": [],
   "source": [
    "combined_data['ds'] = pd.to_datetime(combined_data['ds']).astype('int64') //  10**9\n"
   ]
  },
  {
   "cell_type": "code",
   "execution_count": 6,
   "id": "601e5fbd",
   "metadata": {},
   "outputs": [],
   "source": [
    "from sklearn.preprocessing import LabelEncoder\n",
    "\n",
    "encoder = LabelEncoder()\n",
    "\n",
    "combined_data['content'] = encoder.fit_transform(combined_data['content'])\n",
    "\n"
   ]
  },
  {
   "cell_type": "code",
   "execution_count": 7,
   "id": "72604474",
   "metadata": {},
   "outputs": [
    {
     "data": {
      "text/html": [
       "<div>\n",
       "<style scoped>\n",
       "    .dataframe tbody tr th:only-of-type {\n",
       "        vertical-align: middle;\n",
       "    }\n",
       "\n",
       "    .dataframe tbody tr th {\n",
       "        vertical-align: top;\n",
       "    }\n",
       "\n",
       "    .dataframe thead th {\n",
       "        text-align: right;\n",
       "    }\n",
       "</style>\n",
       "<table border=\"1\" class=\"dataframe\">\n",
       "  <thead>\n",
       "    <tr style=\"text-align: right;\">\n",
       "      <th></th>\n",
       "      <th>id</th>\n",
       "      <th>gender</th>\n",
       "      <th>ds</th>\n",
       "      <th>h</th>\n",
       "      <th>content</th>\n",
       "    </tr>\n",
       "  </thead>\n",
       "  <tbody>\n",
       "    <tr>\n",
       "      <th>0</th>\n",
       "      <td>9933667c-5b9c-4e80-a276-78aba991ceb6</td>\n",
       "      <td>f</td>\n",
       "      <td>1682380800</td>\n",
       "      <td>22</td>\n",
       "      <td>508</td>\n",
       "    </tr>\n",
       "    <tr>\n",
       "      <th>1</th>\n",
       "      <td>9933667c-5b9c-4e80-a276-78aba991ceb6</td>\n",
       "      <td>f</td>\n",
       "      <td>1681257600</td>\n",
       "      <td>21</td>\n",
       "      <td>38</td>\n",
       "    </tr>\n",
       "    <tr>\n",
       "      <th>2</th>\n",
       "      <td>9933667c-5b9c-4e80-a276-78aba991ceb6</td>\n",
       "      <td>f</td>\n",
       "      <td>1682380800</td>\n",
       "      <td>22</td>\n",
       "      <td>621</td>\n",
       "    </tr>\n",
       "    <tr>\n",
       "      <th>3</th>\n",
       "      <td>9933667c-5b9c-4e80-a276-78aba991ceb6</td>\n",
       "      <td>f</td>\n",
       "      <td>1681257600</td>\n",
       "      <td>22</td>\n",
       "      <td>508</td>\n",
       "    </tr>\n",
       "    <tr>\n",
       "      <th>4</th>\n",
       "      <td>9933667c-5b9c-4e80-a276-78aba991ceb6</td>\n",
       "      <td>f</td>\n",
       "      <td>1680912000</td>\n",
       "      <td>14</td>\n",
       "      <td>712</td>\n",
       "    </tr>\n",
       "    <tr>\n",
       "      <th>...</th>\n",
       "      <td>...</td>\n",
       "      <td>...</td>\n",
       "      <td>...</td>\n",
       "      <td>...</td>\n",
       "      <td>...</td>\n",
       "    </tr>\n",
       "    <tr>\n",
       "      <th>485293</th>\n",
       "      <td>64da0f76-3804-4b61-8b00-6b923f1c448d</td>\n",
       "      <td>f</td>\n",
       "      <td>1680912000</td>\n",
       "      <td>9</td>\n",
       "      <td>760</td>\n",
       "    </tr>\n",
       "    <tr>\n",
       "      <th>485294</th>\n",
       "      <td>e76d941e-5ada-4c94-9424-be59ed27930d</td>\n",
       "      <td>f</td>\n",
       "      <td>1680393600</td>\n",
       "      <td>20</td>\n",
       "      <td>712</td>\n",
       "    </tr>\n",
       "    <tr>\n",
       "      <th>485295</th>\n",
       "      <td>0fe56e26-3cea-4d12-b3cc-f9677c3db177</td>\n",
       "      <td>f</td>\n",
       "      <td>1681948800</td>\n",
       "      <td>18</td>\n",
       "      <td>21</td>\n",
       "    </tr>\n",
       "    <tr>\n",
       "      <th>485296</th>\n",
       "      <td>26131393-ae39-44f8-b9d7-0eca0a0e6cbe</td>\n",
       "      <td>f</td>\n",
       "      <td>1681257600</td>\n",
       "      <td>18</td>\n",
       "      <td>566</td>\n",
       "    </tr>\n",
       "    <tr>\n",
       "      <th>485297</th>\n",
       "      <td>0d7af2f9-2f55-447a-a874-937d49e5f80a</td>\n",
       "      <td>f</td>\n",
       "      <td>1680739200</td>\n",
       "      <td>8</td>\n",
       "      <td>712</td>\n",
       "    </tr>\n",
       "  </tbody>\n",
       "</table>\n",
       "<p>485298 rows × 5 columns</p>\n",
       "</div>"
      ],
      "text/plain": [
       "                                          id gender          ds   h  content\n",
       "0       9933667c-5b9c-4e80-a276-78aba991ceb6      f  1682380800  22      508\n",
       "1       9933667c-5b9c-4e80-a276-78aba991ceb6      f  1681257600  21       38\n",
       "2       9933667c-5b9c-4e80-a276-78aba991ceb6      f  1682380800  22      621\n",
       "3       9933667c-5b9c-4e80-a276-78aba991ceb6      f  1681257600  22      508\n",
       "4       9933667c-5b9c-4e80-a276-78aba991ceb6      f  1680912000  14      712\n",
       "...                                      ...    ...         ...  ..      ...\n",
       "485293  64da0f76-3804-4b61-8b00-6b923f1c448d      f  1680912000   9      760\n",
       "485294  e76d941e-5ada-4c94-9424-be59ed27930d      f  1680393600  20      712\n",
       "485295  0fe56e26-3cea-4d12-b3cc-f9677c3db177      f  1681948800  18       21\n",
       "485296  26131393-ae39-44f8-b9d7-0eca0a0e6cbe      f  1681257600  18      566\n",
       "485297  0d7af2f9-2f55-447a-a874-937d49e5f80a      f  1680739200   8      712\n",
       "\n",
       "[485298 rows x 5 columns]"
      ]
     },
     "execution_count": 7,
     "metadata": {},
     "output_type": "execute_result"
    }
   ],
   "source": [
    "combined_data\n"
   ]
  },
  {
   "cell_type": "code",
   "execution_count": 8,
   "id": "2a7e8ad9",
   "metadata": {},
   "outputs": [],
   "source": [
    "from sklearn.model_selection import train_test_split\n",
    "\n",
    "X = combined_data.drop(['id', 'gender'], axis=1)\n",
    "y = combined_data['gender']\n",
    "\n",
    "X_train, X_test, y_train, y_test = train_test_split(X, y, test_size=0.2, random_state=42)\n"
   ]
  },
  {
   "cell_type": "code",
   "execution_count": 9,
   "id": "059f238c",
   "metadata": {},
   "outputs": [
    {
     "name": "stdout",
     "output_type": "stream",
     "text": [
      "Accuracy:  0.7769730063878013\n"
     ]
    }
   ],
   "source": [
    "from sklearn.ensemble import RandomForestClassifier\n",
    "from sklearn.metrics import accuracy_score\n",
    "\n",
    "clf = RandomForestClassifier(random_state=42)\n",
    "\n",
    "clf.fit(X_train, y_train)\n",
    "\n",
    "y_pred = clf.predict(X_test)\n",
    "\n",
    "accuracy = accuracy_score(y_test, y_pred)\n",
    "print(\"Accuracy: \", accuracy)\n"
   ]
  },
  {
   "cell_type": "code",
   "execution_count": 10,
   "id": "17bcb65b",
   "metadata": {
    "scrolled": true
   },
   "outputs": [
    {
     "name": "stdout",
     "output_type": "stream",
     "text": [
      "              precision    recall  f1-score   support\n",
      "\n",
      "           f       0.80      0.95      0.87     76996\n",
      "           m       0.37      0.12      0.18     20064\n",
      "\n",
      "    accuracy                           0.78     97060\n",
      "   macro avg       0.59      0.53      0.52     97060\n",
      "weighted avg       0.72      0.78      0.73     97060\n",
      "\n"
     ]
    }
   ],
   "source": [
    "from sklearn.metrics import classification_report\n",
    "\n",
    "print(classification_report(y_test, y_pred))\n"
   ]
  },
  {
   "cell_type": "code",
   "execution_count": 12,
   "id": "cfb2fbb5",
   "metadata": {},
   "outputs": [
    {
     "data": {
      "image/png": "[encoded data removed]",
      "text/plain": [
       "<Figure size 640x480 with 1 Axes>"
      ]
     },
     "metadata": {},
     "output_type": "display_data"
    }
   ],
   "source": [
    "import matplotlib.pyplot as plt\n",
    "\n",
    "plt.bar(combined_data['gender'].unique(), combined_data['gender'].value_counts())\n",
    "plt.title('Dataset Gender Distribution')\n",
    "plt.show()\n"
   ]
  },
  {
   "cell_type": "code",
   "execution_count": 13,
   "id": "1356350f",
   "metadata": {},
   "outputs": [
    {
     "data": {
      "image/png": "[encoded data removed]",
      "text/plain": [
       "<Figure size 640x480 with 2 Axes>"
      ]
     },
     "metadata": {},
     "output_type": "display_data"
    }
   ],
   "source": [
    "from sklearn.metrics import classification_report\n",
    "import seaborn as sns\n",
    "\n",
    "report = classification_report(y_test, y_pred, output_dict=True)\n",
    "\n",
    "report_df = pd.DataFrame(report).transpose()\n",
    "sns.heatmap(report_df, annot=True, fmt=\".2f\", cmap=\"Blues\")\n",
    "\n",
    "plt.title('Results')\n",
    "plt.show()"
   ]
  },
  {
   "cell_type": "code",
   "execution_count": null,
   "id": "ad771c73",
   "metadata": {},
   "outputs": [],
   "source": []
  }
 ],
 "metadata": {
  "kernelspec": {
   "display_name": "Python 3 (ipykernel)",
   "language": "python",
   "name": "python3"
  },
  "language_info": {
   "codemirror_mode": {
    "name": "ipython",
    "version": 3
   },
   "file_extension": ".py",
   "mimetype": "text/x-python",
   "name": "python",
   "nbconvert_exporter": "python",
   "pygments_lexer": "ipython3",
   "version": "3.11.5"
  }
 },
 "nbformat": 4,
 "nbformat_minor": 5
}
